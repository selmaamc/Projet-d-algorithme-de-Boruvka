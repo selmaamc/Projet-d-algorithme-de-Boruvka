{
  "nbformat": 4,
  "nbformat_minor": 0,
  "metadata": {
    "colab": {
      "name": "boruvka.ipynb",
      "provenance": [],
      "collapsed_sections": [],
      "authorship_tag": "ABX9TyMtNu26mGl73bj9f8jJJRky"
    },
    "kernelspec": {
      "name": "python3",
      "display_name": "Python 3"
    }
  },
  "cells": [
    {
      "cell_type": "code",
      "metadata": {
        "id": "fVTcA6Dbneua",
        "colab_type": "code",
        "outputId": "63337c87-7126-49c5-8eeb-90e7b7706016",
        "colab": {
          "base_uri": "https://localhost:8080/",
          "height": 514
        }
      },
      "source": [
        "def boruvka(a,b,aretes,somcom):\n",
        "  tabfin=[]\n",
        "  while(len(somcom)!=0):\n",
        "    for i in range(0,len(somcom)):\n",
        "      tabAr=[]\n",
        "      A=1\n",
        "      for j in range(0,b):\n",
        "        for m in range(0,a):\n",
        "          if(((aretes[j][0]==somcom[i][m]) and (somcom[i].count(aretes[j][1])==0))or ((aretes[j][1]==somcom[i][m])and(somcom[i].count(aretes[j][0])==0))):\n",
        "            A=0\n",
        "        if(A==0):\n",
        "            tabAr.append(aretes[j])\n",
        "      w=tabAr[0][2]\n",
        "      areteChoisie=tabAr[0]\n",
        "      for arete in tabAr:\n",
        "        if (arete[2]<w):\n",
        "          w=arete[2]\n",
        "          areteChoisie=arete\n",
        "      if(tabfin.count(areteChoisie)==0):    \n",
        "        tabfin.append(areteChoisie)\n",
        "      if(somcom[i].count(areteChoisie[0])>0):\n",
        "        for t in range(0,a):\n",
        "          if(somcom[t].count(areteChoisie[1])>0):\n",
        "            index=t\n",
        "            break\n",
        "        for t in range(0,a):\n",
        "          if somcom[index][t]!=0:\n",
        "            somcom[i].append(somcom[index][t])\n",
        "        somcom.pop(index)\n",
        "      elif(somcom[i].count(areteChoisie[1])>0):\n",
        "        for t in range(0,a):\n",
        "          if(somcom[t].count(areteChoisie[0])>0):\n",
        "            index=t\n",
        "            break\n",
        "        for t in range(0,a):\n",
        "          if somcom[index][t]!=0:\n",
        "            somcom[i].append(somcom[index][t])\n",
        "        somcom.pop(index)\n",
        "  print(\"L'arbre de recouvrement minimal est constitué des arêtes suivantes:/n\")\n",
        "  for arete in tabfin:\n",
        "    print(\"%s-%s\" %(arete[0],arete[1]))\n",
        "#fonction principale\n",
        "a=int(input(\"Combien de sommets contient votre arbre?\"))\n",
        "b=int(input(\"Combien d'arêtes contient votre arbre?\"))\n",
        "aretes=[]\n",
        "somcom=[]\n",
        "for j in range(0,a):\n",
        "  sommet=[0]*a\n",
        "  sommet[0]=int(input(\"Quel est le nom de votre sommet numéro %d\"%(j+1)))\n",
        "  somcom.append(sommet)\n",
        "for i in range(0,b):\n",
        "  art=[0]*3\n",
        "  art[0]=int(input((\"Quel est le premier sommet de votre arête numéro %d\" %(i+1))))\n",
        "  art[1]=int(input((\"Quel est le deuxieme sommet de votre arête numéro %d\"%(i+1))))\n",
        "  art[2]=int(input((\"Quel est le poids de votre arête numéro %d\"%(i+1))))\n",
        "  aretes.append(art)\n",
        "boruvka(a,b,aretes,somcom)\n",
        "\n",
        "\n",
        "    \n",
        "\n",
        "\n",
        "\n",
        "\n"
      ],
      "execution_count": 30,
      "outputs": [
        {
          "output_type": "stream",
          "text": [
            "Combien de sommets contient votre arbre?2\n",
            "Combien d'arêtes contient votre arbre?2\n",
            "Quel est le nom de votre sommet numéro 11\n",
            "Quel est le nom de votre sommet numéro 22\n",
            "Quel est le premier sommet de votre arête numéro 11\n",
            "Quel est le deuxieme sommet de votre arête numéro 12\n",
            "Quel est le poids de votre arête numéro 18\n",
            "Quel est le premier sommet de votre arête numéro 22\n",
            "Quel est le deuxieme sommet de votre arête numéro 21\n",
            "Quel est le poids de votre arête numéro 26\n"
          ],
          "name": "stdout"
        },
        {
          "output_type": "error",
          "ename": "IndexError",
          "evalue": "ignored",
          "traceback": [
            "\u001b[0;31m---------------------------------------------------------------------------\u001b[0m",
            "\u001b[0;31mIndexError\u001b[0m                                Traceback (most recent call last)",
            "\u001b[0;32m<ipython-input-30-50cbf41ca81f>\u001b[0m in \u001b[0;36m<module>\u001b[0;34m()\u001b[0m\n\u001b[1;32m     55\u001b[0m   \u001b[0mart\u001b[0m\u001b[0;34m[\u001b[0m\u001b[0;36m2\u001b[0m\u001b[0;34m]\u001b[0m\u001b[0;34m=\u001b[0m\u001b[0mint\u001b[0m\u001b[0;34m(\u001b[0m\u001b[0minput\u001b[0m\u001b[0;34m(\u001b[0m\u001b[0;34m(\u001b[0m\u001b[0;34m\"Quel est le poids de votre arête numéro %d\"\u001b[0m\u001b[0;34m%\u001b[0m\u001b[0;34m(\u001b[0m\u001b[0mi\u001b[0m\u001b[0;34m+\u001b[0m\u001b[0;36m1\u001b[0m\u001b[0;34m)\u001b[0m\u001b[0;34m)\u001b[0m\u001b[0;34m)\u001b[0m\u001b[0;34m)\u001b[0m\u001b[0;34m\u001b[0m\u001b[0;34m\u001b[0m\u001b[0m\n\u001b[1;32m     56\u001b[0m   \u001b[0maretes\u001b[0m\u001b[0;34m.\u001b[0m\u001b[0mappend\u001b[0m\u001b[0;34m(\u001b[0m\u001b[0mart\u001b[0m\u001b[0;34m)\u001b[0m\u001b[0;34m\u001b[0m\u001b[0;34m\u001b[0m\u001b[0m\n\u001b[0;32m---> 57\u001b[0;31m \u001b[0mboruvka\u001b[0m\u001b[0;34m(\u001b[0m\u001b[0ma\u001b[0m\u001b[0;34m,\u001b[0m\u001b[0mb\u001b[0m\u001b[0;34m,\u001b[0m\u001b[0maretes\u001b[0m\u001b[0;34m,\u001b[0m\u001b[0msomcom\u001b[0m\u001b[0;34m)\u001b[0m\u001b[0;34m\u001b[0m\u001b[0;34m\u001b[0m\u001b[0m\n\u001b[0m\u001b[1;32m     58\u001b[0m \u001b[0;34m\u001b[0m\u001b[0m\n\u001b[1;32m     59\u001b[0m \u001b[0;34m\u001b[0m\u001b[0m\n",
            "\u001b[0;32m<ipython-input-30-50cbf41ca81f>\u001b[0m in \u001b[0;36mboruvka\u001b[0;34m(a, b, aretes, somcom)\u001b[0m\n\u001b[1;32m      7\u001b[0m       \u001b[0;32mfor\u001b[0m \u001b[0mj\u001b[0m \u001b[0;32min\u001b[0m \u001b[0mrange\u001b[0m\u001b[0;34m(\u001b[0m\u001b[0;36m0\u001b[0m\u001b[0;34m,\u001b[0m\u001b[0mb\u001b[0m\u001b[0;34m)\u001b[0m\u001b[0;34m:\u001b[0m\u001b[0;34m\u001b[0m\u001b[0;34m\u001b[0m\u001b[0m\n\u001b[1;32m      8\u001b[0m         \u001b[0;32mfor\u001b[0m \u001b[0mm\u001b[0m \u001b[0;32min\u001b[0m \u001b[0mrange\u001b[0m\u001b[0;34m(\u001b[0m\u001b[0;36m0\u001b[0m\u001b[0;34m,\u001b[0m\u001b[0ma\u001b[0m\u001b[0;34m)\u001b[0m\u001b[0;34m:\u001b[0m\u001b[0;34m\u001b[0m\u001b[0;34m\u001b[0m\u001b[0m\n\u001b[0;32m----> 9\u001b[0;31m           \u001b[0;32mif\u001b[0m\u001b[0;34m(\u001b[0m\u001b[0;34m(\u001b[0m\u001b[0;34m(\u001b[0m\u001b[0maretes\u001b[0m\u001b[0;34m[\u001b[0m\u001b[0mj\u001b[0m\u001b[0;34m]\u001b[0m\u001b[0;34m[\u001b[0m\u001b[0;36m0\u001b[0m\u001b[0;34m]\u001b[0m\u001b[0;34m==\u001b[0m\u001b[0msomcom\u001b[0m\u001b[0;34m[\u001b[0m\u001b[0mi\u001b[0m\u001b[0;34m]\u001b[0m\u001b[0;34m[\u001b[0m\u001b[0mm\u001b[0m\u001b[0;34m]\u001b[0m\u001b[0;34m)\u001b[0m \u001b[0;32mand\u001b[0m \u001b[0;34m(\u001b[0m\u001b[0msomcom\u001b[0m\u001b[0;34m[\u001b[0m\u001b[0mi\u001b[0m\u001b[0;34m]\u001b[0m\u001b[0;34m.\u001b[0m\u001b[0mcount\u001b[0m\u001b[0;34m(\u001b[0m\u001b[0maretes\u001b[0m\u001b[0;34m[\u001b[0m\u001b[0mj\u001b[0m\u001b[0;34m]\u001b[0m\u001b[0;34m[\u001b[0m\u001b[0;36m1\u001b[0m\u001b[0;34m]\u001b[0m\u001b[0;34m)\u001b[0m\u001b[0;34m==\u001b[0m\u001b[0;36m0\u001b[0m\u001b[0;34m)\u001b[0m\u001b[0;34m)\u001b[0m\u001b[0;32mor\u001b[0m \u001b[0;34m(\u001b[0m\u001b[0;34m(\u001b[0m\u001b[0maretes\u001b[0m\u001b[0;34m[\u001b[0m\u001b[0mj\u001b[0m\u001b[0;34m]\u001b[0m\u001b[0;34m[\u001b[0m\u001b[0;36m1\u001b[0m\u001b[0;34m]\u001b[0m\u001b[0;34m==\u001b[0m\u001b[0msomcom\u001b[0m\u001b[0;34m[\u001b[0m\u001b[0mi\u001b[0m\u001b[0;34m]\u001b[0m\u001b[0;34m[\u001b[0m\u001b[0mm\u001b[0m\u001b[0;34m]\u001b[0m\u001b[0;34m)\u001b[0m\u001b[0;32mand\u001b[0m\u001b[0;34m(\u001b[0m\u001b[0msomcom\u001b[0m\u001b[0;34m[\u001b[0m\u001b[0mi\u001b[0m\u001b[0;34m]\u001b[0m\u001b[0;34m.\u001b[0m\u001b[0mcount\u001b[0m\u001b[0;34m(\u001b[0m\u001b[0maretes\u001b[0m\u001b[0;34m[\u001b[0m\u001b[0mj\u001b[0m\u001b[0;34m]\u001b[0m\u001b[0;34m[\u001b[0m\u001b[0;36m0\u001b[0m\u001b[0;34m]\u001b[0m\u001b[0;34m)\u001b[0m\u001b[0;34m==\u001b[0m\u001b[0;36m0\u001b[0m\u001b[0;34m)\u001b[0m\u001b[0;34m)\u001b[0m\u001b[0;34m)\u001b[0m\u001b[0;34m:\u001b[0m\u001b[0;34m\u001b[0m\u001b[0;34m\u001b[0m\u001b[0m\n\u001b[0m\u001b[1;32m     10\u001b[0m             \u001b[0mA\u001b[0m\u001b[0;34m=\u001b[0m\u001b[0;36m0\u001b[0m\u001b[0;34m\u001b[0m\u001b[0;34m\u001b[0m\u001b[0m\n\u001b[1;32m     11\u001b[0m           \u001b[0;32mif\u001b[0m\u001b[0;34m(\u001b[0m\u001b[0mA\u001b[0m\u001b[0;34m==\u001b[0m\u001b[0;36m0\u001b[0m\u001b[0;34m)\u001b[0m\u001b[0;34m:\u001b[0m\u001b[0;34m\u001b[0m\u001b[0;34m\u001b[0m\u001b[0m\n",
            "\u001b[0;31mIndexError\u001b[0m: list index out of range"
          ]
        }
      ]
    },
    {
      "cell_type": "code",
      "metadata": {
        "id": "BDyqdrKyHwyO",
        "colab_type": "code",
        "colab": {}
      },
      "source": [
        ""
      ],
      "execution_count": 0,
      "outputs": []
    }
  ]
}